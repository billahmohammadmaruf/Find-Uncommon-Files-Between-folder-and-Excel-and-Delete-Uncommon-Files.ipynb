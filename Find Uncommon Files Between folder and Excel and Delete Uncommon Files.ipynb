{
 "cells": [
  {
   "cell_type": "code",
   "execution_count": null,
   "id": "d688d72d-ee93-4fb7-91f4-c655ae5a1c02",
   "metadata": {},
   "outputs": [],
   "source": [
    "import pandas as pd\n",
    "import os\n",
    "\n",
    "def find_uncommon_files(folder_path, excel_file):\n",
    "    # Get the list of files in the folder\n",
    "    folder_files = set(os.listdir(folder_path))\n",
    "    \n",
    "    # Read the Excel file\n",
    "    df = pd.read_excel(excel_file)\n",
    "    excel_files = set(df['Plot_ID'].astype(str))  # Ensure string type for comparison\n",
    "    \n",
    "    # Find uncommon files\n",
    "    uncommon_files = folder_files.symmetric_difference(excel_files)\n",
    "    \n",
    "    # Save to Excel file\n",
    "    output_file = os.path.join(folder_path, r\"D:\\KOUSHAL\\2023\\uncommon_files.xlsx\")\n",
    "    pd.DataFrame({'Uncommon_Files': list(uncommon_files)}).to_excel(output_file, index=False)\n",
    "    print(f\"Uncommon files saved to {output_file}\")\n",
    "    \n",
    "    return uncommon_files\n",
    "\n",
    "# Example usage\n",
    "folder_path = r\"D:\\KOUSHAL\\2023\\auf1 - Copy\\auf1_04242023_msi_chip\"\n",
    "excel_file = r\"D:\\KOUSHAL\\2023\\2023_HTP_DATA_2.xlsx\"\n",
    "find_uncommon_files(folder_path, excel_file)"
   ]
  },
  {
   "cell_type": "code",
   "execution_count": null,
   "id": "3cc0392b-3e69-45ee-8e1f-d3dbb8657e6b",
   "metadata": {},
   "outputs": [],
   "source": [
    "import pandas as pd\n",
    "import os\n",
    "\n",
    "def delete_uncommon_tif_files(folder_path, excel_file):\n",
    "    # Get the list of .tif files in the folder\n",
    "    folder_files = {f for f in os.listdir(folder_path) if f.endswith(\".tif\")}\n",
    "    \n",
    "    # Read the Excel file and convert 'Plot_ID' to string\n",
    "    df = pd.read_excel(excel_file)\n",
    "    excel_files = {str(plot_id) + \".tif\" for plot_id in df['Plot_ID'].astype(str)}  # Convert Plot_IDs to match .tif filenames\n",
    "    \n",
    "    # Find uncommon .tif files\n",
    "    uncommon_files = folder_files - excel_files  # Only keep files in the folder that are not in the Excel list\n",
    "    \n",
    "    # Delete uncommon .tif files\n",
    "    for file in uncommon_files:\n",
    "        file_path = os.path.join(folder_path, file)\n",
    "        if os.path.exists(file_path):  # Ensure file exists before deletion\n",
    "            os.remove(file_path)\n",
    "            print(f\"Deleted: {file_path}\")\n",
    "    \n",
    "    print(\"Uncommon .tif files deleted successfully.\")\n",
    "\n",
    "# Example usage\n",
    "folder_path = r\"D:\\KOUSHAL\\2023\\auf1 - Copy\\auf1_06282023_msi_chip\"\n",
    "excel_file = r\"D:\\KOUSHAL\\2023\\2023_HTP_DATA_2.xlsx\"\n",
    "delete_uncommon_tif_files(folder_path, excel_file)\n"
   ]
  }
 ],
 "metadata": {
  "kernelspec": {
   "display_name": "Python 3 (ipykernel)",
   "language": "python",
   "name": "python3"
  },
  "language_info": {
   "codemirror_mode": {
    "name": "ipython",
    "version": 3
   },
   "file_extension": ".py",
   "mimetype": "text/x-python",
   "name": "python",
   "nbconvert_exporter": "python",
   "pygments_lexer": "ipython3",
   "version": "3.10.13"
  }
 },
 "nbformat": 4,
 "nbformat_minor": 5
}
